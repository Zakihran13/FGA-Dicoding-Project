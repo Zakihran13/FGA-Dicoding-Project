{
 "cells": [
  {
   "cell_type": "code",
   "execution_count": 10,
   "metadata": {},
   "outputs": [],
   "source": [
    "import tensorflow as tf\n",
    "import pandas as pd\n",
    "import numpy as np\n",
    "from tensorflow.keras.preprocessing.text import Tokenizer\n",
    "from tensorflow.keras.preprocessing.sequence import pad_sequences\n",
    "from sklearn.model_selection import train_test_split\n"
   ]
  },
  {
   "cell_type": "code",
   "execution_count": 2,
   "metadata": {},
   "outputs": [
    {
     "data": {
      "text/html": [
       "<div>\n",
       "<style scoped>\n",
       "    .dataframe tbody tr th:only-of-type {\n",
       "        vertical-align: middle;\n",
       "    }\n",
       "\n",
       "    .dataframe tbody tr th {\n",
       "        vertical-align: top;\n",
       "    }\n",
       "\n",
       "    .dataframe thead th {\n",
       "        text-align: right;\n",
       "    }\n",
       "</style>\n",
       "<table border=\"1\" class=\"dataframe\">\n",
       "  <thead>\n",
       "    <tr style=\"text-align: right;\">\n",
       "      <th></th>\n",
       "      <th>UserName</th>\n",
       "      <th>ScreenName</th>\n",
       "      <th>Location</th>\n",
       "      <th>TweetAt</th>\n",
       "      <th>OriginalTweet</th>\n",
       "      <th>Sentiment</th>\n",
       "    </tr>\n",
       "  </thead>\n",
       "  <tbody>\n",
       "    <tr>\n",
       "      <th>0</th>\n",
       "      <td>3799</td>\n",
       "      <td>48751</td>\n",
       "      <td>London</td>\n",
       "      <td>16-03-2020</td>\n",
       "      <td>@MeNyrbie @Phil_Gahan @Chrisitv https://t.co/i...</td>\n",
       "      <td>Neutral</td>\n",
       "    </tr>\n",
       "    <tr>\n",
       "      <th>1</th>\n",
       "      <td>3800</td>\n",
       "      <td>48752</td>\n",
       "      <td>UK</td>\n",
       "      <td>16-03-2020</td>\n",
       "      <td>advice Talk to your neighbours family to excha...</td>\n",
       "      <td>Positive</td>\n",
       "    </tr>\n",
       "    <tr>\n",
       "      <th>2</th>\n",
       "      <td>3801</td>\n",
       "      <td>48753</td>\n",
       "      <td>Vagabonds</td>\n",
       "      <td>16-03-2020</td>\n",
       "      <td>Coronavirus Australia: Woolworths to give elde...</td>\n",
       "      <td>Positive</td>\n",
       "    </tr>\n",
       "    <tr>\n",
       "      <th>3</th>\n",
       "      <td>3802</td>\n",
       "      <td>48754</td>\n",
       "      <td>NaN</td>\n",
       "      <td>16-03-2020</td>\n",
       "      <td>My food stock is not the only one which is emp...</td>\n",
       "      <td>Positive</td>\n",
       "    </tr>\n",
       "    <tr>\n",
       "      <th>4</th>\n",
       "      <td>3803</td>\n",
       "      <td>48755</td>\n",
       "      <td>NaN</td>\n",
       "      <td>16-03-2020</td>\n",
       "      <td>Me, ready to go at supermarket during the #COV...</td>\n",
       "      <td>Extremely Negative</td>\n",
       "    </tr>\n",
       "    <tr>\n",
       "      <th>...</th>\n",
       "      <td>...</td>\n",
       "      <td>...</td>\n",
       "      <td>...</td>\n",
       "      <td>...</td>\n",
       "      <td>...</td>\n",
       "      <td>...</td>\n",
       "    </tr>\n",
       "    <tr>\n",
       "      <th>41152</th>\n",
       "      <td>44951</td>\n",
       "      <td>89903</td>\n",
       "      <td>Wellington City, New Zealand</td>\n",
       "      <td>14-04-2020</td>\n",
       "      <td>Airline pilots offering to stock supermarket s...</td>\n",
       "      <td>Neutral</td>\n",
       "    </tr>\n",
       "    <tr>\n",
       "      <th>41153</th>\n",
       "      <td>44952</td>\n",
       "      <td>89904</td>\n",
       "      <td>NaN</td>\n",
       "      <td>14-04-2020</td>\n",
       "      <td>Response to complaint not provided citing COVI...</td>\n",
       "      <td>Extremely Negative</td>\n",
       "    </tr>\n",
       "    <tr>\n",
       "      <th>41154</th>\n",
       "      <td>44953</td>\n",
       "      <td>89905</td>\n",
       "      <td>NaN</td>\n",
       "      <td>14-04-2020</td>\n",
       "      <td>You know itÂs getting tough when @KameronWild...</td>\n",
       "      <td>Positive</td>\n",
       "    </tr>\n",
       "    <tr>\n",
       "      <th>41155</th>\n",
       "      <td>44954</td>\n",
       "      <td>89906</td>\n",
       "      <td>NaN</td>\n",
       "      <td>14-04-2020</td>\n",
       "      <td>Is it wrong that the smell of hand sanitizer i...</td>\n",
       "      <td>Neutral</td>\n",
       "    </tr>\n",
       "    <tr>\n",
       "      <th>41156</th>\n",
       "      <td>44955</td>\n",
       "      <td>89907</td>\n",
       "      <td>i love you so much || he/him</td>\n",
       "      <td>14-04-2020</td>\n",
       "      <td>@TartiiCat Well new/used Rift S are going for ...</td>\n",
       "      <td>Negative</td>\n",
       "    </tr>\n",
       "  </tbody>\n",
       "</table>\n",
       "<p>41157 rows × 6 columns</p>\n",
       "</div>"
      ],
      "text/plain": [
       "       UserName  ScreenName                      Location     TweetAt  \\\n",
       "0          3799       48751                        London  16-03-2020   \n",
       "1          3800       48752                            UK  16-03-2020   \n",
       "2          3801       48753                     Vagabonds  16-03-2020   \n",
       "3          3802       48754                           NaN  16-03-2020   \n",
       "4          3803       48755                           NaN  16-03-2020   \n",
       "...         ...         ...                           ...         ...   \n",
       "41152     44951       89903  Wellington City, New Zealand  14-04-2020   \n",
       "41153     44952       89904                           NaN  14-04-2020   \n",
       "41154     44953       89905                           NaN  14-04-2020   \n",
       "41155     44954       89906                           NaN  14-04-2020   \n",
       "41156     44955       89907  i love you so much || he/him  14-04-2020   \n",
       "\n",
       "                                           OriginalTweet           Sentiment  \n",
       "0      @MeNyrbie @Phil_Gahan @Chrisitv https://t.co/i...             Neutral  \n",
       "1      advice Talk to your neighbours family to excha...            Positive  \n",
       "2      Coronavirus Australia: Woolworths to give elde...            Positive  \n",
       "3      My food stock is not the only one which is emp...            Positive  \n",
       "4      Me, ready to go at supermarket during the #COV...  Extremely Negative  \n",
       "...                                                  ...                 ...  \n",
       "41152  Airline pilots offering to stock supermarket s...             Neutral  \n",
       "41153  Response to complaint not provided citing COVI...  Extremely Negative  \n",
       "41154  You know itÂs getting tough when @KameronWild...            Positive  \n",
       "41155  Is it wrong that the smell of hand sanitizer i...             Neutral  \n",
       "41156  @TartiiCat Well new/used Rift S are going for ...            Negative  \n",
       "\n",
       "[41157 rows x 6 columns]"
      ]
     },
     "execution_count": 2,
     "metadata": {},
     "output_type": "execute_result"
    }
   ],
   "source": [
    "# import dataset\n",
    "\n",
    "data = pd.read_csv('Corona_NLP_train.csv', encoding='latin-1')\n",
    "data"
   ]
  },
  {
   "cell_type": "code",
   "execution_count": 3,
   "metadata": {},
   "outputs": [],
   "source": [
    "data.drop(columns=['UserName', 'ScreenName', 'Location', 'TweetAt'], inplace=True)"
   ]
  },
  {
   "cell_type": "code",
   "execution_count": 4,
   "metadata": {},
   "outputs": [],
   "source": [
    "data_train, data_test, label_train, label_test = train_test_split(data.OriginalTweet, data.Sentiment, test_size=0.2, random_state=21 )"
   ]
  },
  {
   "cell_type": "code",
   "execution_count": 5,
   "metadata": {},
   "outputs": [
    {
     "data": {
      "text/plain": [
       "8232"
      ]
     },
     "execution_count": 5,
     "metadata": {},
     "output_type": "execute_result"
    }
   ],
   "source": [
    "len(data_test)"
   ]
  },
  {
   "cell_type": "code",
   "execution_count": 6,
   "metadata": {},
   "outputs": [],
   "source": [
    "from sklearn.preprocessing import LabelEncoder\n",
    "\n",
    "encd = LabelEncoder()\n",
    "\n",
    "encd.fit(label_train)\n",
    "label_latih = encd.transform(label_train)\n",
    "\n",
    "encd.fit(label_test)\n",
    "label_test = encd.transform(label_test)"
   ]
  },
  {
   "cell_type": "code",
   "execution_count": 7,
   "metadata": {},
   "outputs": [],
   "source": [
    "# tokenizing\n",
    "\n",
    "tokenizer = Tokenizer(num_words=10000, oov_token='xx')\n",
    "tokenizer.fit_on_texts(data_train)\n",
    "tokenizer.fit_on_texts(data_test)\n",
    " \n",
    "sekuens_latih = tokenizer.texts_to_sequences(data_train)\n",
    "sekuens_test = tokenizer.texts_to_sequences(data_test)\n",
    " \n",
    "padded_latih = pad_sequences(sekuens_latih) \n",
    "padded_test = pad_sequences(sekuens_test)"
   ]
  },
  {
   "cell_type": "code",
   "execution_count": 8,
   "metadata": {},
   "outputs": [
    {
     "data": {
      "text/plain": [
       "(8232, 65)"
      ]
     },
     "execution_count": 8,
     "metadata": {},
     "output_type": "execute_result"
    }
   ],
   "source": [
    "padded_test.shape"
   ]
  },
  {
   "cell_type": "code",
   "execution_count": 11,
   "metadata": {},
   "outputs": [],
   "source": [
    "model_lstm = tf.keras.Sequential([\n",
    "    tf.keras.layers.Embedding(input_dim=10000, output_dim=32),\n",
    "    tf.keras.layers.LSTM(64, return_sequences=True),\n",
    "    tf.keras.layers.Dropout(0.3),\n",
    "    tf.keras.layers.LSTM(32),\n",
    "    tf.keras.layers.Dense(128, activation='relu'),\n",
    "    tf.keras.layers.Dense(32, activation='relu'),\n",
    "    tf.keras.layers.Dense(5, activation='Softmax'),\n",
    "])\n",
    "\n",
    "model_lstm.compile(loss='sparse_categorical_crossentropy',\n",
    "                    optimizer= tf.optimizers.Adam(0.001),\n",
    "                    metrics=['accuracy'])\n"
   ]
  },
  {
   "cell_type": "code",
   "execution_count": 12,
   "metadata": {},
   "outputs": [
    {
     "name": "stdout",
     "output_type": "stream",
     "text": [
      "Epoch 1/20\n",
      "1029/1029 [==============================] - 63s 47ms/step - loss: 1.2830 - accuracy: 0.4482 - val_loss: 0.9589 - val_accuracy: 0.6284\n",
      "Epoch 2/20\n",
      "1029/1029 [==============================] - 47s 45ms/step - loss: 0.7262 - accuracy: 0.7352 - val_loss: 0.7361 - val_accuracy: 0.7330\n",
      "Epoch 3/20\n",
      "1029/1029 [==============================] - 49s 48ms/step - loss: 0.5491 - accuracy: 0.8107 - val_loss: 0.6531 - val_accuracy: 0.7694\n",
      "Epoch 4/20\n",
      "1029/1029 [==============================] - 49s 47ms/step - loss: 0.4461 - accuracy: 0.8459 - val_loss: 0.6637 - val_accuracy: 0.7690\n",
      "Epoch 5/20\n",
      "1029/1029 [==============================] - 49s 48ms/step - loss: 0.3654 - accuracy: 0.8744 - val_loss: 0.6561 - val_accuracy: 0.7742\n",
      "Epoch 6/20\n",
      "1029/1029 [==============================] - 49s 48ms/step - loss: 0.3073 - accuracy: 0.8943 - val_loss: 0.6915 - val_accuracy: 0.7829\n",
      "Epoch 7/20\n",
      "1029/1029 [==============================] - 47s 46ms/step - loss: 0.2615 - accuracy: 0.9111 - val_loss: 0.7593 - val_accuracy: 0.7761\n",
      "Epoch 8/20\n",
      "1029/1029 [==============================] - 50s 49ms/step - loss: 0.2220 - accuracy: 0.9247 - val_loss: 0.8541 - val_accuracy: 0.7671\n",
      "Epoch 9/20\n",
      "1029/1029 [==============================] - 46s 44ms/step - loss: 0.2006 - accuracy: 0.9320 - val_loss: 0.8434 - val_accuracy: 0.7751\n",
      "Epoch 10/20\n",
      "1029/1029 [==============================] - 49s 47ms/step - loss: 0.1722 - accuracy: 0.9414 - val_loss: 0.9484 - val_accuracy: 0.7613\n",
      "Epoch 11/20\n",
      "1029/1029 [==============================] - 50s 49ms/step - loss: 0.1546 - accuracy: 0.9476 - val_loss: 0.9451 - val_accuracy: 0.7574\n",
      "Epoch 12/20\n",
      "1029/1029 [==============================] - 50s 49ms/step - loss: 0.1422 - accuracy: 0.9521 - val_loss: 0.9690 - val_accuracy: 0.7584\n",
      "Epoch 13/20\n",
      "1029/1029 [==============================] - 46s 44ms/step - loss: 0.1235 - accuracy: 0.9594 - val_loss: 1.0507 - val_accuracy: 0.7481\n",
      "Epoch 14/20\n",
      "1029/1029 [==============================] - 47s 46ms/step - loss: 0.1168 - accuracy: 0.9598 - val_loss: 1.0897 - val_accuracy: 0.7504\n",
      "Epoch 15/20\n",
      "1029/1029 [==============================] - 48s 47ms/step - loss: 0.1008 - accuracy: 0.9667 - val_loss: 1.1180 - val_accuracy: 0.7567\n",
      "Epoch 16/20\n",
      "1029/1029 [==============================] - 50s 48ms/step - loss: 0.0948 - accuracy: 0.9683 - val_loss: 1.1967 - val_accuracy: 0.7594\n",
      "Epoch 17/20\n",
      "1029/1029 [==============================] - 50s 48ms/step - loss: 0.0817 - accuracy: 0.9731 - val_loss: 1.2396 - val_accuracy: 0.7544\n",
      "Epoch 18/20\n",
      "1029/1029 [==============================] - 50s 49ms/step - loss: 0.0753 - accuracy: 0.9759 - val_loss: 1.2872 - val_accuracy: 0.7534\n",
      "Epoch 19/20\n",
      "1029/1029 [==============================] - 48s 47ms/step - loss: 0.0703 - accuracy: 0.9773 - val_loss: 1.2205 - val_accuracy: 0.7516\n",
      "Epoch 20/20\n",
      "1029/1029 [==============================] - 44s 43ms/step - loss: 0.0615 - accuracy: 0.9803 - val_loss: 1.3120 - val_accuracy: 0.7551\n"
     ]
    }
   ],
   "source": [
    "history = model_lstm.fit(padded_latih,\n",
    "                        label_latih,\n",
    "                        epochs=20,\n",
    "                        validation_data=(padded_test, label_test),\n",
    "                        verbose=1)"
   ]
  },
  {
   "cell_type": "code",
   "execution_count": null,
   "metadata": {},
   "outputs": [],
   "source": []
  }
 ],
 "metadata": {
  "kernelspec": {
   "display_name": "Python 3.10.4 ('tf1')",
   "language": "python",
   "name": "python3"
  },
  "language_info": {
   "codemirror_mode": {
    "name": "ipython",
    "version": 3
   },
   "file_extension": ".py",
   "mimetype": "text/x-python",
   "name": "python",
   "nbconvert_exporter": "python",
   "pygments_lexer": "ipython3",
   "version": "3.10.4 | packaged by conda-forge | (main, Mar 30 2022, 08:38:02) [MSC v.1916 64 bit (AMD64)]"
  },
  "orig_nbformat": 4,
  "vscode": {
   "interpreter": {
    "hash": "e5d47089378e6e18d5e41b4ec5dc5221a0b09d5a84cf9a8c4af6a05ce24c8606"
   }
  }
 },
 "nbformat": 4,
 "nbformat_minor": 2
}
